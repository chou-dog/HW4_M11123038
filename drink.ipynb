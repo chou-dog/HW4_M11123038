{
 "cells": [
  {
   "cell_type": "code",
   "execution_count": 641,
   "metadata": {
    "id": "oHuhGPN4fAI9"
   },
   "outputs": [],
   "source": [
    "import pandas as pd\n",
    "import numpy as np\n",
    "import numpy as np\n",
    "from shutil import copy\n",
    "import matplotlib.pyplot as plt\n",
    "from sklearn import manifold\n",
    "dataA={'Class':'A','Drink':'7up','Rank':7}\n",
    "dataA = pd.DataFrame(dataA,index=range(0,300))"
   ]
  },
  {
   "cell_type": "code",
   "execution_count": 642,
   "metadata": {
    "colab": {
     "base_uri": "https://localhost:8080/"
    },
    "id": "67xlDziqMCvS",
    "outputId": "7ba73f90-b8b6-4e04-c4c6-6529b33bd4dd"
   },
   "outputs": [
    {
     "name": "stdout",
     "output_type": "stream",
     "text": [
      "Looking in indexes: https://pypi.org/simple, https://us-python.pkg.dev/colab-wheels/public/simple/\n",
      "Requirement already satisfied: gensim in /usr/local/lib/python3.10/dist-packages (4.3.1)\n",
      "Requirement already satisfied: numpy>=1.18.5 in /usr/local/lib/python3.10/dist-packages (from gensim) (1.22.4)\n",
      "Requirement already satisfied: scipy>=1.7.0 in /usr/local/lib/python3.10/dist-packages (from gensim) (1.10.1)\n",
      "Requirement already satisfied: smart-open>=1.8.1 in /usr/local/lib/python3.10/dist-packages (from gensim) (6.3.0)\n"
     ]
    }
   ],
   "source": [
    "pip install gensim"
   ]
  },
  {
   "cell_type": "code",
   "execution_count": 643,
   "metadata": {
    "id": "Yzc-VHRjOPB2"
   },
   "outputs": [],
   "source": [
    "dataA['Quantity']=np.random.randint(low=500,high=1000,size=300)"
   ]
  },
  {
   "cell_type": "code",
   "execution_count": 644,
   "metadata": {
    "colab": {
     "base_uri": "https://localhost:8080/"
    },
    "id": "q75xU72Z_fFY",
    "outputId": "11ab0638-a7de-40b5-d242-4e563224d99b"
   },
   "outputs": [
    {
     "name": "stdout",
     "output_type": "stream",
     "text": [
      "    Class Drink  Rank  Quantity      Amount\n",
      "0       A   7up     7       860   58.872253\n",
      "1       A   7up     7       665 -206.657772\n",
      "2       A   7up     7       792  100.812943\n",
      "3       A   7up     7       965  201.487041\n",
      "4       A   7up     7       938  -30.372223\n",
      "..    ...   ...   ...       ...         ...\n",
      "295     A   7up     7       561  530.559826\n",
      "296     A   7up     7       534   48.905847\n",
      "297     A   7up     7       872 -253.179423\n",
      "298     A   7up     7       970  215.838470\n",
      "299     A   7up     7       580 -245.272819\n",
      "\n",
      "[300 rows x 5 columns]\n"
     ]
    }
   ],
   "source": [
    "import numpy as np\n",
    "\n",
    "mean = 100\n",
    "std_dev = 200\n",
    "num_samples = 300\n",
    "\n",
    "# 生成常態分佈的值\n",
    "dataA['Amount'] = np.random.normal(mean, std_dev, num_samples)\n",
    "print(dataA)"
   ]
  },
  {
   "cell_type": "code",
   "execution_count": 645,
   "metadata": {
    "colab": {
     "base_uri": "https://localhost:8080/"
    },
    "id": "LgyI9UdaT_nO",
    "outputId": "8bcf652a-2896-4a8e-db17-9a9e670f7e1e"
   },
   "outputs": [
    {
     "name": "stdout",
     "output_type": "stream",
     "text": [
      "    Class   Drink  Rank  Quantity      Amount\n",
      "300     B  Sprite     6       783  210.797853\n",
      "301     B  Sprite     6       986  194.673968\n",
      "302     B  Sprite     6       819  180.447733\n",
      "303     B  Sprite     6       883  201.410528\n",
      "304     B  Sprite     6       966  198.332772\n",
      "..    ...     ...   ...       ...         ...\n",
      "445     B  Sprite     6       631  198.347712\n",
      "446     B  Sprite     6       661  196.853553\n",
      "447     B  Sprite     6       912  195.642509\n",
      "448     B  Sprite     6       980  209.970621\n",
      "449     B  Sprite     6       832  192.276561\n",
      "\n",
      "[150 rows x 5 columns]\n"
     ]
    }
   ],
   "source": [
    "dataB={'Class':'B','Drink':'Sprite','Rank':6}\n",
    "dataB = pd.DataFrame(dataB,index=range(300,450))\n",
    "dataB['Quantity']=np.random.randint(low=500,high=1000,size=150)\n",
    "mean = 200\n",
    "std_dev = 10\n",
    "num_samples = 150\n",
    "\n",
    "# 生成常態分佈的值\n",
    "dataB['Amount'] = np.random.normal(mean, std_dev, num_samples)\n",
    "print(dataB)"
   ]
  },
  {
   "cell_type": "code",
   "execution_count": 646,
   "metadata": {
    "colab": {
     "base_uri": "https://localhost:8080/"
    },
    "id": "3U5KrBzdUTcZ",
    "outputId": "790a430b-9da9-49dc-961c-e36a666c36fc"
   },
   "outputs": [
    {
     "name": "stdout",
     "output_type": "stream",
     "text": [
      "    Class  Drink  Rank  Quantity      Amount\n",
      "450     C  Pepsi     5       778  196.910731\n",
      "451     C  Pepsi     5       814  214.860718\n",
      "452     C  Pepsi     5       739  210.650279\n",
      "453     C  Pepsi     5       972  205.977549\n",
      "454     C  Pepsi     5       942  203.111618\n",
      "..    ...    ...   ...       ...         ...\n",
      "595     C  Pepsi     5       796  214.003669\n",
      "596     C  Pepsi     5       854  188.577999\n",
      "597     C  Pepsi     5       735  200.668636\n",
      "598     C  Pepsi     5       867  186.066615\n",
      "599     C  Pepsi     5       963  211.579113\n",
      "\n",
      "[150 rows x 5 columns]\n"
     ]
    }
   ],
   "source": [
    "dataC={'Class':'C','Drink':'Pepsi','Rank':5}\n",
    "dataC = pd.DataFrame(dataC,index=range(450,600))\n",
    "dataC['Quantity']=np.random.randint(low=500,high=1000,size=150)\n",
    "mean = 200\n",
    "std_dev = 10\n",
    "num_samples = 150\n",
    "# 生成常態分佈的值\n",
    "dataC['Amount'] = np.random.normal(mean, std_dev, num_samples)\n",
    "print(dataC)"
   ]
  },
  {
   "cell_type": "code",
   "execution_count": 647,
   "metadata": {
    "colab": {
     "base_uri": "https://localhost:8080/"
    },
    "id": "CoX1IV4EUUFo",
    "outputId": "64cfba6f-b894-47b9-d1e9-68e847103155"
   },
   "outputs": [
    {
     "name": "stdout",
     "output_type": "stream",
     "text": [
      "    Class Drink  Rank  Quantity      Amount\n",
      "600     D  Coke     4       940  420.621213\n",
      "601     D  Coke     4       936  565.764871\n",
      "602     D  Coke     4       944  598.467336\n",
      "603     D  Coke     4       692  332.009654\n",
      "604     D  Coke     4       970  443.350770\n",
      "..    ...   ...   ...       ...         ...\n",
      "895     D  Coke     4       708  421.287579\n",
      "896     D  Coke     4       650  385.532343\n",
      "897     D  Coke     4       926  567.536502\n",
      "898     D  Coke     4       771  341.128163\n",
      "899     D  Coke     4       552  465.367144\n",
      "\n",
      "[300 rows x 5 columns]\n"
     ]
    }
   ],
   "source": [
    "dataD={'Class':'D','Drink':'Coke','Rank':4}\n",
    "dataD = pd.DataFrame(dataD,index=range(600,900))\n",
    "dataD['Quantity']=np.random.randint(low=500,high=1000,size=300)\n",
    "mean = 400\n",
    "std_dev = 100\n",
    "num_samples = 300\n",
    "# 生成常態分佈的值\n",
    "dataD['Amount'] = np.random.normal(mean, std_dev, num_samples)\n",
    "print(dataD)"
   ]
  },
  {
   "cell_type": "code",
   "execution_count": 648,
   "metadata": {
    "colab": {
     "base_uri": "https://localhost:8080/"
    },
    "id": "wiK-BQDxUUfn",
    "outputId": "6294c797-c1fd-4c1d-e843-006ba930debe"
   },
   "outputs": [
    {
     "name": "stdout",
     "output_type": "stream",
     "text": [
      "     Class       Drink  Rank  Quantity      Amount\n",
      "900      E  Cappuccino     3        54  795.547549\n",
      "901      E  Cappuccino     3       394  799.307706\n",
      "902      E  Cappuccino     3       222  790.544088\n",
      "903      E  Cappuccino     3        36  794.118846\n",
      "904      E  Cappuccino     3        52  813.966344\n",
      "...    ...         ...   ...       ...         ...\n",
      "1045     E  Cappuccino     3       255  801.359276\n",
      "1046     E  Cappuccino     3       474  818.332740\n",
      "1047     E  Cappuccino     3        73  796.369988\n",
      "1048     E  Cappuccino     3       332  806.636309\n",
      "1049     E  Cappuccino     3       339  806.670832\n",
      "\n",
      "[150 rows x 5 columns]\n"
     ]
    }
   ],
   "source": [
    "dataE={'Class':'E','Drink':'Cappuccino','Rank':3}\n",
    "dataE = pd.DataFrame(dataE,index=range(900,1050))\n",
    "dataE['Quantity']=np.random.randint(low=1,high=500,size=150)\n",
    "mean = 800\n",
    "std_dev = 10\n",
    "num_samples = 150\n",
    "\n",
    "# 生成常態分佈的值\n",
    "dataE['Amount'] = np.random.normal(mean, std_dev, num_samples)\n",
    "print(dataE)"
   ]
  },
  {
   "cell_type": "code",
   "execution_count": 649,
   "metadata": {
    "colab": {
     "base_uri": "https://localhost:8080/"
    },
    "id": "5alb5ijjVfFs",
    "outputId": "7e241aab-5d86-49be-a7ab-9a90fe677df3"
   },
   "outputs": [
    {
     "name": "stdout",
     "output_type": "stream",
     "text": [
      "     Class     Drink  Rank  Quantity      Amount\n",
      "1050     F  Espresso     2       104  807.334687\n",
      "1051     F  Espresso     2       387  814.654675\n",
      "1052     F  Espresso     2       188  792.639709\n",
      "1053     F  Espresso     2        91  791.655699\n",
      "1054     F  Espresso     2       385  796.774246\n",
      "...    ...       ...   ...       ...         ...\n",
      "1195     F  Espresso     2       409  804.605601\n",
      "1196     F  Espresso     2       401  795.042740\n",
      "1197     F  Espresso     2       123  799.989731\n",
      "1198     F  Espresso     2       430  801.912678\n",
      "1199     F  Espresso     2       265  793.722679\n",
      "\n",
      "[150 rows x 5 columns]\n"
     ]
    }
   ],
   "source": [
    "dataF={'Class':'F','Drink':'Espresso','Rank':2}\n",
    "dataF = pd.DataFrame(dataF,index=range(1050,1200))\n",
    "dataF['Quantity']=np.random.randint(low=1,high=500,size=150)\n",
    "mean = 800\n",
    "std_dev = 10\n",
    "num_samples = 150\n",
    "\n",
    "# 生成常態分佈的值\n",
    "dataF['Amount'] = np.random.normal(mean, std_dev, num_samples)\n",
    "print(dataF)"
   ]
  },
  {
   "cell_type": "code",
   "execution_count": 650,
   "metadata": {
    "colab": {
     "base_uri": "https://localhost:8080/"
    },
    "id": "JjR7OiYTVlxa",
    "outputId": "39d20577-de65-40ae-ffe7-d0ca819ad042"
   },
   "outputs": [
    {
     "name": "stdout",
     "output_type": "stream",
     "text": [
      "     Class  Drink  Rank  Quantity       Amount\n",
      "1200     G  Latte     1       338   139.196686\n",
      "1201     G  Latte     1       152   512.912842\n",
      "1202     G  Latte     1        90  1369.564723\n",
      "1203     G  Latte     1       486  2011.346761\n",
      "1204     G  Latte     1       466   965.422896\n",
      "...    ...    ...   ...       ...          ...\n",
      "1495     G  Latte     1       307   277.055940\n",
      "1496     G  Latte     1         1  1116.837654\n",
      "1497     G  Latte     1       260  1290.732888\n",
      "1498     G  Latte     1       333  1000.645497\n",
      "1499     G  Latte     1       470   468.769379\n",
      "\n",
      "[300 rows x 5 columns]\n"
     ]
    }
   ],
   "source": [
    "dataG={'Class':'G','Drink':'Latte','Rank':1}\n",
    "dataG = pd.DataFrame(dataG,index=range(1200,1500))\n",
    "dataG['Quantity']=np.random.randint(low=1,high=500,size=300)\n",
    "mean = 900\n",
    "std_dev = 400\n",
    "num_samples = 300\n",
    "\n",
    "# 生成常態分佈的值\n",
    "dataG['Amount'] = np.random.normal(mean, std_dev, num_samples)\n",
    "print(dataG)"
   ]
  },
  {
   "cell_type": "code",
   "execution_count": 651,
   "metadata": {
    "id": "sG5cS5Cfqzxs"
   },
   "outputs": [],
   "source": [
    "X = pd.concat([dataA,dataB,dataC,dataD,dataE,dataF,dataG], ignore_index=True)\n",
    "Drinkdata=X['Drink']"
   ]
  },
  {
   "cell_type": "code",
   "execution_count": 652,
   "metadata": {
    "id": "0xAMDXFrt0AM"
   },
   "outputs": [],
   "source": [
    "Y=X[['Class']]\n",
    "X.drop(['Class'],axis=1,inplace=True)\n",
    "new_X=X"
   ]
  },
  {
   "cell_type": "code",
   "execution_count": 653,
   "metadata": {
    "colab": {
     "base_uri": "https://localhost:8080/"
    },
    "id": "nI6JKC4zK0uH",
    "outputId": "1b9891e8-1881-4234-d221-fcf59ed0ff46"
   },
   "outputs": [
    {
     "name": "stdout",
     "output_type": "stream",
     "text": [
      "      Drink  Rank  Quantity       Amount\n",
      "0       7up     7       860    58.872253\n",
      "1       7up     7       665  -206.657772\n",
      "2       7up     7       792   100.812943\n",
      "3       7up     7       965   201.487041\n",
      "4       7up     7       938   -30.372223\n",
      "...     ...   ...       ...          ...\n",
      "1495  Latte     1       307   277.055940\n",
      "1496  Latte     1         1  1116.837654\n",
      "1497  Latte     1       260  1290.732888\n",
      "1498  Latte     1       333  1000.645497\n",
      "1499  Latte     1       470   468.769379\n",
      "\n",
      "[1500 rows x 4 columns]\n",
      "類別型: 1\n",
      "連續型: 3\n"
     ]
    }
   ],
   "source": [
    "print(X)\n",
    "#查看類別特徵有幾個，數值特徵有幾個\n",
    "all_cols=X.columns.tolist()\n",
    "categorical=0\n",
    "numerical=0\n",
    "for col in all_cols:\n",
    "    if(X[col].dtype == 'object'):\n",
    "        categorical+=1\n",
    "    else:\n",
    "        numerical+=1\n",
    "print(\"類別型:\",categorical)\n",
    "print(\"連續型:\",numerical)"
   ]
  },
  {
   "cell_type": "code",
   "execution_count": 654,
   "metadata": {
    "colab": {
     "base_uri": "https://localhost:8080/"
    },
    "id": "OHweEUneMLrD",
    "outputId": "0ebff9fd-9685-4db1-e9c4-8b5e061e0af1"
   },
   "outputs": [
    {
     "name": "stdout",
     "output_type": "stream",
     "text": [
      "['Drink']\n"
     ]
    }
   ],
   "source": [
    "isClass = [col for col in X.columns if X[col].dtypes=='object'and col !='ind']\n",
    "print(isClass)\n",
    "X_dummies= pd.get_dummies(X[isClass])\n",
    "X=X.drop(isClass,axis=1)\n",
    "X= pd.concat([X,X_dummies],axis=1)"
   ]
  },
  {
   "cell_type": "code",
   "execution_count": 655,
   "metadata": {
    "id": "Yv2ojiWXei2A"
   },
   "outputs": [],
   "source": [
    "from sklearn.preprocessing import StandardScaler,LabelEncoder\n",
    "scaler = StandardScaler().fit(X[['Quantity','Amount']])\n",
    "X[['Quantity','Amount']] = scaler.transform(X[['Quantity','Amount']])"
   ]
  },
  {
   "cell_type": "code",
   "execution_count": 656,
   "metadata": {
    "colab": {
     "base_uri": "https://localhost:8080/",
     "height": 419
    },
    "id": "hjhnf7qRgBVd",
    "outputId": "c575c21a-d775-4738-d557-0177f6676fb1"
   },
   "outputs": [
    {
     "data": {
      "text/html": [
       "\n",
       "  <div id=\"df-c6467bd5-c42d-45d5-a41d-9132f083ef98\">\n",
       "    <div class=\"colab-df-container\">\n",
       "      <div>\n",
       "<style scoped>\n",
       "    .dataframe tbody tr th:only-of-type {\n",
       "        vertical-align: middle;\n",
       "    }\n",
       "\n",
       "    .dataframe tbody tr th {\n",
       "        vertical-align: top;\n",
       "    }\n",
       "\n",
       "    .dataframe thead th {\n",
       "        text-align: right;\n",
       "    }\n",
       "</style>\n",
       "<table border=\"1\" class=\"dataframe\">\n",
       "  <thead>\n",
       "    <tr style=\"text-align: right;\">\n",
       "      <th></th>\n",
       "      <th>Rank</th>\n",
       "      <th>Quantity</th>\n",
       "      <th>Amount</th>\n",
       "      <th>Drink_7up</th>\n",
       "      <th>Drink_Cappuccino</th>\n",
       "      <th>Drink_Coke</th>\n",
       "      <th>Drink_Espresso</th>\n",
       "      <th>Drink_Latte</th>\n",
       "      <th>Drink_Pepsi</th>\n",
       "      <th>Drink_Sprite</th>\n",
       "    </tr>\n",
       "  </thead>\n",
       "  <tbody>\n",
       "    <tr>\n",
       "      <th>0</th>\n",
       "      <td>7</td>\n",
       "      <td>1.100914</td>\n",
       "      <td>-1.100385</td>\n",
       "      <td>1</td>\n",
       "      <td>0</td>\n",
       "      <td>0</td>\n",
       "      <td>0</td>\n",
       "      <td>0</td>\n",
       "      <td>0</td>\n",
       "      <td>0</td>\n",
       "    </tr>\n",
       "    <tr>\n",
       "      <th>1</th>\n",
       "      <td>7</td>\n",
       "      <td>0.419950</td>\n",
       "      <td>-1.789796</td>\n",
       "      <td>1</td>\n",
       "      <td>0</td>\n",
       "      <td>0</td>\n",
       "      <td>0</td>\n",
       "      <td>0</td>\n",
       "      <td>0</td>\n",
       "      <td>0</td>\n",
       "    </tr>\n",
       "    <tr>\n",
       "      <th>2</th>\n",
       "      <td>7</td>\n",
       "      <td>0.863449</td>\n",
       "      <td>-0.991492</td>\n",
       "      <td>1</td>\n",
       "      <td>0</td>\n",
       "      <td>0</td>\n",
       "      <td>0</td>\n",
       "      <td>0</td>\n",
       "      <td>0</td>\n",
       "      <td>0</td>\n",
       "    </tr>\n",
       "    <tr>\n",
       "      <th>3</th>\n",
       "      <td>7</td>\n",
       "      <td>1.467586</td>\n",
       "      <td>-0.730106</td>\n",
       "      <td>1</td>\n",
       "      <td>0</td>\n",
       "      <td>0</td>\n",
       "      <td>0</td>\n",
       "      <td>0</td>\n",
       "      <td>0</td>\n",
       "      <td>0</td>\n",
       "    </tr>\n",
       "    <tr>\n",
       "      <th>4</th>\n",
       "      <td>7</td>\n",
       "      <td>1.373299</td>\n",
       "      <td>-1.332096</td>\n",
       "      <td>1</td>\n",
       "      <td>0</td>\n",
       "      <td>0</td>\n",
       "      <td>0</td>\n",
       "      <td>0</td>\n",
       "      <td>0</td>\n",
       "      <td>0</td>\n",
       "    </tr>\n",
       "    <tr>\n",
       "      <th>...</th>\n",
       "      <td>...</td>\n",
       "      <td>...</td>\n",
       "      <td>...</td>\n",
       "      <td>...</td>\n",
       "      <td>...</td>\n",
       "      <td>...</td>\n",
       "      <td>...</td>\n",
       "      <td>...</td>\n",
       "      <td>...</td>\n",
       "      <td>...</td>\n",
       "    </tr>\n",
       "    <tr>\n",
       "      <th>1495</th>\n",
       "      <td>1</td>\n",
       "      <td>-0.830228</td>\n",
       "      <td>-0.533902</td>\n",
       "      <td>0</td>\n",
       "      <td>0</td>\n",
       "      <td>0</td>\n",
       "      <td>0</td>\n",
       "      <td>1</td>\n",
       "      <td>0</td>\n",
       "      <td>0</td>\n",
       "    </tr>\n",
       "    <tr>\n",
       "      <th>1496</th>\n",
       "      <td>1</td>\n",
       "      <td>-1.898816</td>\n",
       "      <td>1.646472</td>\n",
       "      <td>0</td>\n",
       "      <td>0</td>\n",
       "      <td>0</td>\n",
       "      <td>0</td>\n",
       "      <td>1</td>\n",
       "      <td>0</td>\n",
       "      <td>0</td>\n",
       "    </tr>\n",
       "    <tr>\n",
       "      <th>1497</th>\n",
       "      <td>1</td>\n",
       "      <td>-0.994357</td>\n",
       "      <td>2.097966</td>\n",
       "      <td>0</td>\n",
       "      <td>0</td>\n",
       "      <td>0</td>\n",
       "      <td>0</td>\n",
       "      <td>1</td>\n",
       "      <td>0</td>\n",
       "      <td>0</td>\n",
       "    </tr>\n",
       "    <tr>\n",
       "      <th>1498</th>\n",
       "      <td>1</td>\n",
       "      <td>-0.739433</td>\n",
       "      <td>1.344795</td>\n",
       "      <td>0</td>\n",
       "      <td>0</td>\n",
       "      <td>0</td>\n",
       "      <td>0</td>\n",
       "      <td>1</td>\n",
       "      <td>0</td>\n",
       "      <td>0</td>\n",
       "    </tr>\n",
       "    <tr>\n",
       "      <th>1499</th>\n",
       "      <td>1</td>\n",
       "      <td>-0.261013</td>\n",
       "      <td>-0.036145</td>\n",
       "      <td>0</td>\n",
       "      <td>0</td>\n",
       "      <td>0</td>\n",
       "      <td>0</td>\n",
       "      <td>1</td>\n",
       "      <td>0</td>\n",
       "      <td>0</td>\n",
       "    </tr>\n",
       "  </tbody>\n",
       "</table>\n",
       "<p>1500 rows × 10 columns</p>\n",
       "</div>\n",
       "      <button class=\"colab-df-convert\" onclick=\"convertToInteractive('df-c6467bd5-c42d-45d5-a41d-9132f083ef98')\"\n",
       "              title=\"Convert this dataframe to an interactive table.\"\n",
       "              style=\"display:none;\">\n",
       "        \n",
       "  <svg xmlns=\"http://www.w3.org/2000/svg\" height=\"24px\"viewBox=\"0 0 24 24\"\n",
       "       width=\"24px\">\n",
       "    <path d=\"M0 0h24v24H0V0z\" fill=\"none\"/>\n",
       "    <path d=\"M18.56 5.44l.94 2.06.94-2.06 2.06-.94-2.06-.94-.94-2.06-.94 2.06-2.06.94zm-11 1L8.5 8.5l.94-2.06 2.06-.94-2.06-.94L8.5 2.5l-.94 2.06-2.06.94zm10 10l.94 2.06.94-2.06 2.06-.94-2.06-.94-.94-2.06-.94 2.06-2.06.94z\"/><path d=\"M17.41 7.96l-1.37-1.37c-.4-.4-.92-.59-1.43-.59-.52 0-1.04.2-1.43.59L10.3 9.45l-7.72 7.72c-.78.78-.78 2.05 0 2.83L4 21.41c.39.39.9.59 1.41.59.51 0 1.02-.2 1.41-.59l7.78-7.78 2.81-2.81c.8-.78.8-2.07 0-2.86zM5.41 20L4 18.59l7.72-7.72 1.47 1.35L5.41 20z\"/>\n",
       "  </svg>\n",
       "      </button>\n",
       "      \n",
       "  <style>\n",
       "    .colab-df-container {\n",
       "      display:flex;\n",
       "      flex-wrap:wrap;\n",
       "      gap: 12px;\n",
       "    }\n",
       "\n",
       "    .colab-df-convert {\n",
       "      background-color: #E8F0FE;\n",
       "      border: none;\n",
       "      border-radius: 50%;\n",
       "      cursor: pointer;\n",
       "      display: none;\n",
       "      fill: #1967D2;\n",
       "      height: 32px;\n",
       "      padding: 0 0 0 0;\n",
       "      width: 32px;\n",
       "    }\n",
       "\n",
       "    .colab-df-convert:hover {\n",
       "      background-color: #E2EBFA;\n",
       "      box-shadow: 0px 1px 2px rgba(60, 64, 67, 0.3), 0px 1px 3px 1px rgba(60, 64, 67, 0.15);\n",
       "      fill: #174EA6;\n",
       "    }\n",
       "\n",
       "    [theme=dark] .colab-df-convert {\n",
       "      background-color: #3B4455;\n",
       "      fill: #D2E3FC;\n",
       "    }\n",
       "\n",
       "    [theme=dark] .colab-df-convert:hover {\n",
       "      background-color: #434B5C;\n",
       "      box-shadow: 0px 1px 3px 1px rgba(0, 0, 0, 0.15);\n",
       "      filter: drop-shadow(0px 1px 2px rgba(0, 0, 0, 0.3));\n",
       "      fill: #FFFFFF;\n",
       "    }\n",
       "  </style>\n",
       "\n",
       "      <script>\n",
       "        const buttonEl =\n",
       "          document.querySelector('#df-c6467bd5-c42d-45d5-a41d-9132f083ef98 button.colab-df-convert');\n",
       "        buttonEl.style.display =\n",
       "          google.colab.kernel.accessAllowed ? 'block' : 'none';\n",
       "\n",
       "        async function convertToInteractive(key) {\n",
       "          const element = document.querySelector('#df-c6467bd5-c42d-45d5-a41d-9132f083ef98');\n",
       "          const dataTable =\n",
       "            await google.colab.kernel.invokeFunction('convertToInteractive',\n",
       "                                                     [key], {});\n",
       "          if (!dataTable) return;\n",
       "\n",
       "          const docLinkHtml = 'Like what you see? Visit the ' +\n",
       "            '<a target=\"_blank\" href=https://colab.research.google.com/notebooks/data_table.ipynb>data table notebook</a>'\n",
       "            + ' to learn more about interactive tables.';\n",
       "          element.innerHTML = '';\n",
       "          dataTable['output_type'] = 'display_data';\n",
       "          await google.colab.output.renderOutput(dataTable, element);\n",
       "          const docLink = document.createElement('div');\n",
       "          docLink.innerHTML = docLinkHtml;\n",
       "          element.appendChild(docLink);\n",
       "        }\n",
       "      </script>\n",
       "    </div>\n",
       "  </div>\n",
       "  "
      ],
      "text/plain": [
       "      Rank  Quantity    Amount  Drink_7up  Drink_Cappuccino  Drink_Coke  \\\n",
       "0        7  1.100914 -1.100385          1                 0           0   \n",
       "1        7  0.419950 -1.789796          1                 0           0   \n",
       "2        7  0.863449 -0.991492          1                 0           0   \n",
       "3        7  1.467586 -0.730106          1                 0           0   \n",
       "4        7  1.373299 -1.332096          1                 0           0   \n",
       "...    ...       ...       ...        ...               ...         ...   \n",
       "1495     1 -0.830228 -0.533902          0                 0           0   \n",
       "1496     1 -1.898816  1.646472          0                 0           0   \n",
       "1497     1 -0.994357  2.097966          0                 0           0   \n",
       "1498     1 -0.739433  1.344795          0                 0           0   \n",
       "1499     1 -0.261013 -0.036145          0                 0           0   \n",
       "\n",
       "      Drink_Espresso  Drink_Latte  Drink_Pepsi  Drink_Sprite  \n",
       "0                  0            0            0             0  \n",
       "1                  0            0            0             0  \n",
       "2                  0            0            0             0  \n",
       "3                  0            0            0             0  \n",
       "4                  0            0            0             0  \n",
       "...              ...          ...          ...           ...  \n",
       "1495               0            1            0             0  \n",
       "1496               0            1            0             0  \n",
       "1497               0            1            0             0  \n",
       "1498               0            1            0             0  \n",
       "1499               0            1            0             0  \n",
       "\n",
       "[1500 rows x 10 columns]"
      ]
     },
     "execution_count": 656,
     "metadata": {},
     "output_type": "execute_result"
    }
   ],
   "source": [
    "X"
   ]
  },
  {
   "cell_type": "code",
   "execution_count": 657,
   "metadata": {
    "colab": {
     "base_uri": "https://localhost:8080/"
    },
    "id": "ePtcEDuJZjsY",
    "outputId": "6ee93e1d-c2d1-4164-c50e-1eacf167c506"
   },
   "outputs": [
    {
     "name": "stdout",
     "output_type": "stream",
     "text": [
      "[t-SNE] Computing 91 nearest neighbors...\n",
      "[t-SNE] Indexed 1500 samples in 0.001s...\n",
      "[t-SNE] Computed neighbors for 1500 samples in 0.061s...\n",
      "[t-SNE] Computed conditional probabilities for sample 1000 / 1500\n",
      "[t-SNE] Computed conditional probabilities for sample 1500 / 1500\n",
      "[t-SNE] Mean sigma: 0.155974\n",
      "[t-SNE] KL divergence after 250 iterations with early exaggeration: 51.334152\n",
      "[t-SNE] KL divergence after 1000 iterations: 0.294619\n",
      "[[  1.7397166  26.178143 ]\n",
      " [ 10.755441   23.070425 ]\n",
      " [  2.1493683  22.886036 ]\n",
      " ...\n",
      " [ 21.347048  -18.980927 ]\n",
      " [ 23.312908  -12.83012  ]\n",
      " [ 25.8131     -2.928154 ]]\n"
     ]
    }
   ],
   "source": [
    "#t-SNE\n",
    "X_tsne = manifold.TSNE(n_components=2, init='random', random_state=5, verbose=1).fit_transform(X)\n",
    "print(X_tsne)"
   ]
  },
  {
   "cell_type": "code",
   "execution_count": 658,
   "metadata": {
    "colab": {
     "base_uri": "https://localhost:8080/"
    },
    "id": "a4X1zBzPYupW",
    "outputId": "0877cd29-f859-40ac-e587-3a2bb15e3529"
   },
   "outputs": [
    {
     "name": "stderr",
     "output_type": "stream",
     "text": [
      "<ipython-input-658-054683afcfdd>:2: SettingWithCopyWarning:\n",
      "\n",
      "\n",
      "A value is trying to be set on a copy of a slice from a DataFrame.\n",
      "Try using .loc[row_indexer,col_indexer] = value instead\n",
      "\n",
      "See the caveats in the documentation: https://pandas.pydata.org/pandas-docs/stable/user_guide/indexing.html#returning-a-view-versus-a-copy\n",
      "\n"
     ]
    }
   ],
   "source": [
    "label_encoder=LabelEncoder()\n",
    "Y['Class']=label_encoder.fit_transform(Y['Class'])"
   ]
  },
  {
   "cell_type": "code",
   "execution_count": 659,
   "metadata": {
    "colab": {
     "base_uri": "https://localhost:8080/",
     "height": 472
    },
    "id": "Fy6heJTNVg2v",
    "outputId": "b5e84e40-17e0-410f-95d7-198c57ffd22d"
   },
   "outputs": [
    {
     "data": {
      "image/png": "[encoded data removed]",
      "text/plain": [
       "<Figure size 640x480 with 1 Axes>"
      ]
     },
     "metadata": {},
     "output_type": "display_data"
    }
   ],
   "source": [
    "plt.scatter(X_tsne[:,0],X_tsne[:,1],c=Y['Class'])\n",
    "plt.title(\"t-SNE\")\n",
    "plt.xlabel(\"X\")\n",
    "plt.ylabel(\"Y\")\n",
    "plt.show()"
   ]
  },
  {
   "cell_type": "code",
   "execution_count": 660,
   "metadata": {
    "colab": {
     "base_uri": "https://localhost:8080/",
     "height": 671
    },
    "id": "VCbYEdjWqF6s",
    "outputId": "30c16bc6-91d0-4cca-d553-a756db7effbc"
   },
   "outputs": [
    {
     "data": {
      "application/javascript": [
       "(async (port, path, width, height, cache, element) => {\n",
       "    if (!google.colab.kernel.accessAllowed && !cache) {\n",
       "      return;\n",
       "    }\n",
       "    element.appendChild(document.createTextNode(''));\n",
       "    const url = await google.colab.kernel.proxyPort(port, {cache});\n",
       "    const iframe = document.createElement('iframe');\n",
       "    iframe.src = new URL(path, url).toString();\n",
       "    iframe.height = height;\n",
       "    iframe.width = width;\n",
       "    iframe.style.border = 0;\n",
       "    iframe.allow = [\n",
       "        'accelerometer',\n",
       "        'autoplay',\n",
       "        'camera',\n",
       "        'clipboard-read',\n",
       "        'clipboard-write',\n",
       "        'gyroscope',\n",
       "        'magnetometer',\n",
       "        'microphone',\n",
       "        'serial',\n",
       "        'usb',\n",
       "        'xr-spatial-tracking',\n",
       "    ].join('; ');\n",
       "    element.appendChild(iframe);\n",
       "  })(8050, \"/\", \"100%\", 650, false, window.element)"
      ],
      "text/plain": [
       "<IPython.core.display.Javascript object>"
      ]
     },
     "metadata": {},
     "output_type": "display_data"
    }
   ],
   "source": [
    "import dash\n",
    "from dash.dependencies import Input, Output\n",
    "import dash_core_components as dcc\n",
    "import dash_html_components as html\n",
    "import json\n",
    "\n",
    "app = dash.Dash(__name__)\n",
    "\n",
    "app.layout = html.Div([\n",
    "    dcc.Graph(\n",
    "        id='basic-interactions',\n",
    "        figure={\n",
    "            'data': [\n",
    "                {\n",
    "                    'x':X_tsne[:,0],\n",
    "                    'y': X_tsne[:,1],\n",
    "                    'text':Drinkdata,\n",
    "                    'customdata':X['Rank'],\n",
    "                    'name': 'Trace 1',\n",
    "                    'mode': 'markers',\n",
    "                    'marker': {\n",
    "                        'size': 12,\n",
    "                        'color': X['Rank'],  # 根據 'Class' 欄位的值進行顏色轉換\n",
    "                        'colorscale': 'Viridis',  # 可選的顏色映射\n",
    "                        'colorbar': {'title': 'Rank'}  # 顏色軸標題\n",
    "                    }\n",
    "                }\n",
    "            ]\n",
    "        }\n",
    "    ),\n",
    "\n",
    "    html.Div([\n",
    "        dcc.Markdown(\"\"\"\n",
    "            **Hover Data**\n",
    "\n",
    "            Mouse over values in the graph.\n",
    "        \"\"\".replace('   ', '')),\n",
    "        html.Pre(id='hover-data')\n",
    "    ]),\n",
    "\n",
    "    html.Div([\n",
    "        dcc.Markdown(\"\"\"\n",
    "            **Click Data**\n",
    "\n",
    "            Click on points in the graph.\n",
    "        \"\"\".replace('    ', '')),\n",
    "        html.Pre(id='click-data'),\n",
    "    ]),\n",
    "\n",
    "    html.Div([\n",
    "        dcc.Markdown(\"\"\"\n",
    "            **Selection Data**\n",
    "\n",
    "            Choose the lasso or rectangle tool in the graph's menu\n",
    "            bar and then select points in the graph.\n",
    "        \"\"\".replace('    ', '')),\n",
    "        html.Pre(id='selected-data'),\n",
    "    ])\n",
    "])\n",
    "\n",
    "\n",
    "@app.callback(\n",
    "    Output('hover-data', 'children'),\n",
    "    [Input('basic-interactions', 'hoverData')])\n",
    "def display_hover_data(hoverData):\n",
    "    #\n",
    "    # This is where you can access the hover data\n",
    "    # This function will get called automatically when you hover over points\n",
    "    # hoverData will be equal to an object with that data\n",
    "    # You can compute something off of this data, and return it to the front-end UI\n",
    "    #\n",
    "\n",
    "\n",
    "    return json.dumps(hoverData, indent=2)\n",
    "\n",
    "\n",
    "@app.callback(\n",
    "    Output('click-data', 'children'),\n",
    "    [Input('basic-interactions', 'clickData')])\n",
    "def display_click_data(clickData):\n",
    "    # Similarly for data when you click on a point\n",
    "    return json.dumps(clickData, indent=2)\n",
    "\n",
    "\n",
    "@app.callback(\n",
    "    Output('selected-data', 'children'),\n",
    "    [Input('basic-interactions', 'selectedData')])\n",
    "def display_selected_data(selectedData):\n",
    "    # Similarly for data when you select a region\n",
    "    return json.dumps(selectedData, indent=2)\n",
    "\n",
    "\n",
    "if __name__ == '__main__':\n",
    "    app.run_server(debug=True)"
   ]
  },
  {
   "cell_type": "code",
   "execution_count": 661,
   "metadata": {
    "id": "H8RExTiex5EI"
   },
   "outputs": [],
   "source": [
    "scaler = StandardScaler().fit(new_X[['Quantity','Amount']])\n",
    "new_X[['Quantity','Amount']] = scaler.transform(new_X[['Quantity','Amount']])"
   ]
  },
  {
   "cell_type": "code",
   "execution_count": 662,
   "metadata": {
    "id": "9hpkQVN1AkPw"
   },
   "outputs": [],
   "source": [
    "newG=pd.DataFrame({'7up': 1, 'Sprite': 1, 'Pepsi': 1, 'Coke': 1, 'Cappuccino': 0, 'Espresso': 0, 'Latte': 0},index=[i])\n",
    "newF=pd.DataFrame({'7up': 1, 'Sprite': 1, 'Pepsi': 1, 'Coke': 1, 'Cappuccino': 0, 'Espresso': 0, 'Latte': 0},index=[i])\n",
    "newE=pd.DataFrame({'7up': 1, 'Sprite': 1, 'Pepsi': 1, 'Coke': 1, 'Cappuccino': 0, 'Espresso': 0, 'Latte': 0},index=[i])\n",
    "newD=pd.DataFrame({'7up': 1, 'Sprite': 1, 'Pepsi': 1, 'Coke': 1, 'Cappuccino': 0, 'Espresso': 0, 'Latte': 0},index=[i])\n",
    "newC=pd.DataFrame({'7up': 0, 'Sprite': 0, 'Pepsi': 0, 'Coke': 0, 'Cappuccino': 1, 'Espresso': 1, 'Latte': 1},index=[i])\n",
    "newB=pd.DataFrame({'7up': 0, 'Sprite': 0, 'Pepsi': 0, 'Coke': 0, 'Cappuccino': 1, 'Espresso': 1, 'Latte': 1},index=[i])\n",
    "newA=pd.DataFrame({'7up': 0, 'Sprite': 0, 'Pepsi': 0, 'Coke': 0, 'Cappuccino': 1, 'Espresso': 1, 'Latte': 1},index=[i])\n",
    "datasim= pd.concat([newG,newF,newE,newD,newC,newB,newA], ignore_index=True)"
   ]
  },
  {
   "cell_type": "code",
   "execution_count": 663,
   "metadata": {
    "colab": {
     "base_uri": "https://localhost:8080/",
     "height": 266
    },
    "id": "Rm4aZOxODvPP",
    "outputId": "1f28a90a-84d3-4eef-fc56-54a869e972ea"
   },
   "outputs": [
    {
     "data": {
      "text/html": [
       "\n",
       "  <div id=\"df-d866da09-f4fb-43f5-9811-9529b96cc0fd\">\n",
       "    <div class=\"colab-df-container\">\n",
       "      <div>\n",
       "<style scoped>\n",
       "    .dataframe tbody tr th:only-of-type {\n",
       "        vertical-align: middle;\n",
       "    }\n",
       "\n",
       "    .dataframe tbody tr th {\n",
       "        vertical-align: top;\n",
       "    }\n",
       "\n",
       "    .dataframe thead th {\n",
       "        text-align: right;\n",
       "    }\n",
       "</style>\n",
       "<table border=\"1\" class=\"dataframe\">\n",
       "  <thead>\n",
       "    <tr style=\"text-align: right;\">\n",
       "      <th></th>\n",
       "      <th>7up</th>\n",
       "      <th>Sprite</th>\n",
       "      <th>Pepsi</th>\n",
       "      <th>Coke</th>\n",
       "      <th>Cappuccino</th>\n",
       "      <th>Espresso</th>\n",
       "      <th>Latte</th>\n",
       "    </tr>\n",
       "  </thead>\n",
       "  <tbody>\n",
       "    <tr>\n",
       "      <th>0</th>\n",
       "      <td>1</td>\n",
       "      <td>1</td>\n",
       "      <td>1</td>\n",
       "      <td>1</td>\n",
       "      <td>0</td>\n",
       "      <td>0</td>\n",
       "      <td>0</td>\n",
       "    </tr>\n",
       "    <tr>\n",
       "      <th>1</th>\n",
       "      <td>1</td>\n",
       "      <td>1</td>\n",
       "      <td>1</td>\n",
       "      <td>1</td>\n",
       "      <td>0</td>\n",
       "      <td>0</td>\n",
       "      <td>0</td>\n",
       "    </tr>\n",
       "    <tr>\n",
       "      <th>2</th>\n",
       "      <td>1</td>\n",
       "      <td>1</td>\n",
       "      <td>1</td>\n",
       "      <td>1</td>\n",
       "      <td>0</td>\n",
       "      <td>0</td>\n",
       "      <td>0</td>\n",
       "    </tr>\n",
       "    <tr>\n",
       "      <th>3</th>\n",
       "      <td>1</td>\n",
       "      <td>1</td>\n",
       "      <td>1</td>\n",
       "      <td>1</td>\n",
       "      <td>0</td>\n",
       "      <td>0</td>\n",
       "      <td>0</td>\n",
       "    </tr>\n",
       "    <tr>\n",
       "      <th>4</th>\n",
       "      <td>0</td>\n",
       "      <td>0</td>\n",
       "      <td>0</td>\n",
       "      <td>0</td>\n",
       "      <td>1</td>\n",
       "      <td>1</td>\n",
       "      <td>1</td>\n",
       "    </tr>\n",
       "    <tr>\n",
       "      <th>5</th>\n",
       "      <td>0</td>\n",
       "      <td>0</td>\n",
       "      <td>0</td>\n",
       "      <td>0</td>\n",
       "      <td>1</td>\n",
       "      <td>1</td>\n",
       "      <td>1</td>\n",
       "    </tr>\n",
       "    <tr>\n",
       "      <th>6</th>\n",
       "      <td>0</td>\n",
       "      <td>0</td>\n",
       "      <td>0</td>\n",
       "      <td>0</td>\n",
       "      <td>1</td>\n",
       "      <td>1</td>\n",
       "      <td>1</td>\n",
       "    </tr>\n",
       "  </tbody>\n",
       "</table>\n",
       "</div>\n",
       "      <button class=\"colab-df-convert\" onclick=\"convertToInteractive('df-d866da09-f4fb-43f5-9811-9529b96cc0fd')\"\n",
       "              title=\"Convert this dataframe to an interactive table.\"\n",
       "              style=\"display:none;\">\n",
       "        \n",
       "  <svg xmlns=\"http://www.w3.org/2000/svg\" height=\"24px\"viewBox=\"0 0 24 24\"\n",
       "       width=\"24px\">\n",
       "    <path d=\"M0 0h24v24H0V0z\" fill=\"none\"/>\n",
       "    <path d=\"M18.56 5.44l.94 2.06.94-2.06 2.06-.94-2.06-.94-.94-2.06-.94 2.06-2.06.94zm-11 1L8.5 8.5l.94-2.06 2.06-.94-2.06-.94L8.5 2.5l-.94 2.06-2.06.94zm10 10l.94 2.06.94-2.06 2.06-.94-2.06-.94-.94-2.06-.94 2.06-2.06.94z\"/><path d=\"M17.41 7.96l-1.37-1.37c-.4-.4-.92-.59-1.43-.59-.52 0-1.04.2-1.43.59L10.3 9.45l-7.72 7.72c-.78.78-.78 2.05 0 2.83L4 21.41c.39.39.9.59 1.41.59.51 0 1.02-.2 1.41-.59l7.78-7.78 2.81-2.81c.8-.78.8-2.07 0-2.86zM5.41 20L4 18.59l7.72-7.72 1.47 1.35L5.41 20z\"/>\n",
       "  </svg>\n",
       "      </button>\n",
       "      \n",
       "  <style>\n",
       "    .colab-df-container {\n",
       "      display:flex;\n",
       "      flex-wrap:wrap;\n",
       "      gap: 12px;\n",
       "    }\n",
       "\n",
       "    .colab-df-convert {\n",
       "      background-color: #E8F0FE;\n",
       "      border: none;\n",
       "      border-radius: 50%;\n",
       "      cursor: pointer;\n",
       "      display: none;\n",
       "      fill: #1967D2;\n",
       "      height: 32px;\n",
       "      padding: 0 0 0 0;\n",
       "      width: 32px;\n",
       "    }\n",
       "\n",
       "    .colab-df-convert:hover {\n",
       "      background-color: #E2EBFA;\n",
       "      box-shadow: 0px 1px 2px rgba(60, 64, 67, 0.3), 0px 1px 3px 1px rgba(60, 64, 67, 0.15);\n",
       "      fill: #174EA6;\n",
       "    }\n",
       "\n",
       "    [theme=dark] .colab-df-convert {\n",
       "      background-color: #3B4455;\n",
       "      fill: #D2E3FC;\n",
       "    }\n",
       "\n",
       "    [theme=dark] .colab-df-convert:hover {\n",
       "      background-color: #434B5C;\n",
       "      box-shadow: 0px 1px 3px 1px rgba(0, 0, 0, 0.15);\n",
       "      filter: drop-shadow(0px 1px 2px rgba(0, 0, 0, 0.3));\n",
       "      fill: #FFFFFF;\n",
       "    }\n",
       "  </style>\n",
       "\n",
       "      <script>\n",
       "        const buttonEl =\n",
       "          document.querySelector('#df-d866da09-f4fb-43f5-9811-9529b96cc0fd button.colab-df-convert');\n",
       "        buttonEl.style.display =\n",
       "          google.colab.kernel.accessAllowed ? 'block' : 'none';\n",
       "\n",
       "        async function convertToInteractive(key) {\n",
       "          const element = document.querySelector('#df-d866da09-f4fb-43f5-9811-9529b96cc0fd');\n",
       "          const dataTable =\n",
       "            await google.colab.kernel.invokeFunction('convertToInteractive',\n",
       "                                                     [key], {});\n",
       "          if (!dataTable) return;\n",
       "\n",
       "          const docLinkHtml = 'Like what you see? Visit the ' +\n",
       "            '<a target=\"_blank\" href=https://colab.research.google.com/notebooks/data_table.ipynb>data table notebook</a>'\n",
       "            + ' to learn more about interactive tables.';\n",
       "          element.innerHTML = '';\n",
       "          dataTable['output_type'] = 'display_data';\n",
       "          await google.colab.output.renderOutput(dataTable, element);\n",
       "          const docLink = document.createElement('div');\n",
       "          docLink.innerHTML = docLinkHtml;\n",
       "          element.appendChild(docLink);\n",
       "        }\n",
       "      </script>\n",
       "    </div>\n",
       "  </div>\n",
       "  "
      ],
      "text/plain": [
       "   7up  Sprite  Pepsi  Coke  Cappuccino  Espresso  Latte\n",
       "0    1       1      1     1           0         0      0\n",
       "1    1       1      1     1           0         0      0\n",
       "2    1       1      1     1           0         0      0\n",
       "3    1       1      1     1           0         0      0\n",
       "4    0       0      0     0           1         1      1\n",
       "5    0       0      0     0           1         1      1\n",
       "6    0       0      0     0           1         1      1"
      ]
     },
     "execution_count": 663,
     "metadata": {},
     "output_type": "execute_result"
    }
   ],
   "source": [
    "datasim"
   ]
  },
  {
   "cell_type": "code",
   "execution_count": 664,
   "metadata": {
    "colab": {
     "base_uri": "https://localhost:8080/",
     "height": 730
    },
    "id": "gqq__SjlDsiO",
    "outputId": "04d4979a-75e5-4beb-f941-a1337943155d"
   },
   "outputs": [
    {
     "name": "stdout",
     "output_type": "stream",
     "text": [
      "[t-SNE] Computing 6 nearest neighbors...\n",
      "[t-SNE] Indexed 7 samples in 0.000s...\n",
      "[t-SNE] Computed neighbors for 7 samples in 0.013s...\n",
      "[t-SNE] Computed conditional probabilities for sample 7 / 7\n",
      "[t-SNE] Mean sigma: 32.000000\n",
      "[t-SNE] KL divergence after 250 iterations with early exaggeration: 34.568707\n",
      "[t-SNE] KL divergence after 251 iterations: 179769313486231570814527423731704356798070567525844996598917476803157260780028538760589558632766878171540458953514382464234321326889464182768467546703537516986049910576551282076245490090389328944075868508455133942304583236903222948165808559332123348274797826204144723168738177180919299881250404026184124858368.000000\n",
      "[[  7.216132   -12.022114  ]\n",
      " [ -0.44030857  -8.064831  ]\n",
      " [  9.904968    -6.876829  ]\n",
      " [ 24.845547   -17.349724  ]\n",
      " [ 12.148544   -10.88556   ]\n",
      " [  7.7368336  -13.019884  ]\n",
      " [ -9.013494   -23.364906  ]]\n"
     ]
    },
    {
     "data": {
      "image/png": "[encoded data removed]",
      "text/plain": [
       "<Figure size 640x480 with 1 Axes>"
      ]
     },
     "metadata": {},
     "output_type": "display_data"
    }
   ],
   "source": [
    "#t-SNE\n",
    "X_tsne1 = manifold.TSNE(n_components=2,perplexity=6.0, init='random',n_iter=250 ,random_state=5, verbose=1).fit_transform(datasim)\n",
    "print(X_tsne1)\n",
    "plt.scatter(X_tsne1[:,0],X_tsne1[:,1],c=range(len(X_tsne1)))\n",
    "plt.title(\"t-SNE\")\n",
    "plt.xlabel(\"X\")\n",
    "plt.ylabel(\"Y\")\n",
    "plt.show()"
   ]
  },
  {
   "cell_type": "code",
   "execution_count": 665,
   "metadata": {
    "colab": {
     "base_uri": "https://localhost:8080/",
     "height": 266
    },
    "id": "xxCkAIHy3hbG",
    "outputId": "cfb08689-a49e-4dd4-a329-e45dd2c1844a"
   },
   "outputs": [
    {
     "data": {
      "text/html": [
       "\n",
       "  <div id=\"df-d97cf083-16f1-46cc-832e-37529fc8ba0d\">\n",
       "    <div class=\"colab-df-container\">\n",
       "      <div>\n",
       "<style scoped>\n",
       "    .dataframe tbody tr th:only-of-type {\n",
       "        vertical-align: middle;\n",
       "    }\n",
       "\n",
       "    .dataframe tbody tr th {\n",
       "        vertical-align: top;\n",
       "    }\n",
       "\n",
       "    .dataframe thead th {\n",
       "        text-align: right;\n",
       "    }\n",
       "</style>\n",
       "<table border=\"1\" class=\"dataframe\">\n",
       "  <thead>\n",
       "    <tr style=\"text-align: right;\">\n",
       "      <th></th>\n",
       "      <th>7up</th>\n",
       "      <th>Sprite</th>\n",
       "      <th>Pepsi</th>\n",
       "      <th>Coke</th>\n",
       "      <th>Cappuccino</th>\n",
       "      <th>Espresso</th>\n",
       "      <th>Latte</th>\n",
       "    </tr>\n",
       "  </thead>\n",
       "  <tbody>\n",
       "    <tr>\n",
       "      <th>0</th>\n",
       "      <td>1.000000</td>\n",
       "      <td>0.019152</td>\n",
       "      <td>0.034765</td>\n",
       "      <td>0.041577</td>\n",
       "      <td>0.145951</td>\n",
       "      <td>-0.114107</td>\n",
       "      <td>0.016135</td>\n",
       "    </tr>\n",
       "    <tr>\n",
       "      <th>1</th>\n",
       "      <td>0.019152</td>\n",
       "      <td>1.000000</td>\n",
       "      <td>0.138880</td>\n",
       "      <td>0.131490</td>\n",
       "      <td>0.064090</td>\n",
       "      <td>0.009391</td>\n",
       "      <td>-0.059876</td>\n",
       "    </tr>\n",
       "    <tr>\n",
       "      <th>2</th>\n",
       "      <td>0.034765</td>\n",
       "      <td>0.138880</td>\n",
       "      <td>1.000000</td>\n",
       "      <td>-0.044617</td>\n",
       "      <td>0.170189</td>\n",
       "      <td>0.004503</td>\n",
       "      <td>-0.027750</td>\n",
       "    </tr>\n",
       "    <tr>\n",
       "      <th>3</th>\n",
       "      <td>0.041577</td>\n",
       "      <td>0.131490</td>\n",
       "      <td>-0.044617</td>\n",
       "      <td>1.000000</td>\n",
       "      <td>-0.013515</td>\n",
       "      <td>0.067976</td>\n",
       "      <td>-0.111671</td>\n",
       "    </tr>\n",
       "    <tr>\n",
       "      <th>4</th>\n",
       "      <td>0.145951</td>\n",
       "      <td>0.064090</td>\n",
       "      <td>0.170189</td>\n",
       "      <td>-0.013515</td>\n",
       "      <td>1.000000</td>\n",
       "      <td>-0.023672</td>\n",
       "      <td>-0.052347</td>\n",
       "    </tr>\n",
       "    <tr>\n",
       "      <th>5</th>\n",
       "      <td>-0.114107</td>\n",
       "      <td>0.009391</td>\n",
       "      <td>0.004503</td>\n",
       "      <td>0.067976</td>\n",
       "      <td>-0.023672</td>\n",
       "      <td>1.000000</td>\n",
       "      <td>-0.010839</td>\n",
       "    </tr>\n",
       "    <tr>\n",
       "      <th>6</th>\n",
       "      <td>0.016135</td>\n",
       "      <td>-0.059876</td>\n",
       "      <td>-0.027750</td>\n",
       "      <td>-0.111671</td>\n",
       "      <td>-0.052347</td>\n",
       "      <td>-0.010839</td>\n",
       "      <td>1.000000</td>\n",
       "    </tr>\n",
       "  </tbody>\n",
       "</table>\n",
       "</div>\n",
       "      <button class=\"colab-df-convert\" onclick=\"convertToInteractive('df-d97cf083-16f1-46cc-832e-37529fc8ba0d')\"\n",
       "              title=\"Convert this dataframe to an interactive table.\"\n",
       "              style=\"display:none;\">\n",
       "        \n",
       "  <svg xmlns=\"http://www.w3.org/2000/svg\" height=\"24px\"viewBox=\"0 0 24 24\"\n",
       "       width=\"24px\">\n",
       "    <path d=\"M0 0h24v24H0V0z\" fill=\"none\"/>\n",
       "    <path d=\"M18.56 5.44l.94 2.06.94-2.06 2.06-.94-2.06-.94-.94-2.06-.94 2.06-2.06.94zm-11 1L8.5 8.5l.94-2.06 2.06-.94-2.06-.94L8.5 2.5l-.94 2.06-2.06.94zm10 10l.94 2.06.94-2.06 2.06-.94-2.06-.94-.94-2.06-.94 2.06-2.06.94z\"/><path d=\"M17.41 7.96l-1.37-1.37c-.4-.4-.92-.59-1.43-.59-.52 0-1.04.2-1.43.59L10.3 9.45l-7.72 7.72c-.78.78-.78 2.05 0 2.83L4 21.41c.39.39.9.59 1.41.59.51 0 1.02-.2 1.41-.59l7.78-7.78 2.81-2.81c.8-.78.8-2.07 0-2.86zM5.41 20L4 18.59l7.72-7.72 1.47 1.35L5.41 20z\"/>\n",
       "  </svg>\n",
       "      </button>\n",
       "      \n",
       "  <style>\n",
       "    .colab-df-container {\n",
       "      display:flex;\n",
       "      flex-wrap:wrap;\n",
       "      gap: 12px;\n",
       "    }\n",
       "\n",
       "    .colab-df-convert {\n",
       "      background-color: #E8F0FE;\n",
       "      border: none;\n",
       "      border-radius: 50%;\n",
       "      cursor: pointer;\n",
       "      display: none;\n",
       "      fill: #1967D2;\n",
       "      height: 32px;\n",
       "      padding: 0 0 0 0;\n",
       "      width: 32px;\n",
       "    }\n",
       "\n",
       "    .colab-df-convert:hover {\n",
       "      background-color: #E2EBFA;\n",
       "      box-shadow: 0px 1px 2px rgba(60, 64, 67, 0.3), 0px 1px 3px 1px rgba(60, 64, 67, 0.15);\n",
       "      fill: #174EA6;\n",
       "    }\n",
       "\n",
       "    [theme=dark] .colab-df-convert {\n",
       "      background-color: #3B4455;\n",
       "      fill: #D2E3FC;\n",
       "    }\n",
       "\n",
       "    [theme=dark] .colab-df-convert:hover {\n",
       "      background-color: #434B5C;\n",
       "      box-shadow: 0px 1px 3px 1px rgba(0, 0, 0, 0.15);\n",
       "      filter: drop-shadow(0px 1px 2px rgba(0, 0, 0, 0.3));\n",
       "      fill: #FFFFFF;\n",
       "    }\n",
       "  </style>\n",
       "\n",
       "      <script>\n",
       "        const buttonEl =\n",
       "          document.querySelector('#df-d97cf083-16f1-46cc-832e-37529fc8ba0d button.colab-df-convert');\n",
       "        buttonEl.style.display =\n",
       "          google.colab.kernel.accessAllowed ? 'block' : 'none';\n",
       "\n",
       "        async function convertToInteractive(key) {\n",
       "          const element = document.querySelector('#df-d97cf083-16f1-46cc-832e-37529fc8ba0d');\n",
       "          const dataTable =\n",
       "            await google.colab.kernel.invokeFunction('convertToInteractive',\n",
       "                                                     [key], {});\n",
       "          if (!dataTable) return;\n",
       "\n",
       "          const docLinkHtml = 'Like what you see? Visit the ' +\n",
       "            '<a target=\"_blank\" href=https://colab.research.google.com/notebooks/data_table.ipynb>data table notebook</a>'\n",
       "            + ' to learn more about interactive tables.';\n",
       "          element.innerHTML = '';\n",
       "          dataTable['output_type'] = 'display_data';\n",
       "          await google.colab.output.renderOutput(dataTable, element);\n",
       "          const docLink = document.createElement('div');\n",
       "          docLink.innerHTML = docLinkHtml;\n",
       "          element.appendChild(docLink);\n",
       "        }\n",
       "      </script>\n",
       "    </div>\n",
       "  </div>\n",
       "  "
      ],
      "text/plain": [
       "        7up    Sprite     Pepsi      Coke  Cappuccino  Espresso     Latte\n",
       "0  1.000000  0.019152  0.034765  0.041577    0.145951 -0.114107  0.016135\n",
       "1  0.019152  1.000000  0.138880  0.131490    0.064090  0.009391 -0.059876\n",
       "2  0.034765  0.138880  1.000000 -0.044617    0.170189  0.004503 -0.027750\n",
       "3  0.041577  0.131490 -0.044617  1.000000   -0.013515  0.067976 -0.111671\n",
       "4  0.145951  0.064090  0.170189 -0.013515    1.000000 -0.023672 -0.052347\n",
       "5 -0.114107  0.009391  0.004503  0.067976   -0.023672  1.000000 -0.010839\n",
       "6  0.016135 -0.059876 -0.027750 -0.111671   -0.052347 -0.010839  1.000000"
      ]
     },
     "execution_count": 665,
     "metadata": {},
     "output_type": "execute_result"
    }
   ],
   "source": [
    "import pandas as pd\n",
    "from gensim.models import Word2Vec\n",
    "\n",
    "sentences = [\n",
    "    ['7Up'], ['Coke'], ['Sprite'], ['Pepsi'], ['Espresso'], ['Cappuccino'], ['Latte'],\n",
    "]\n",
    "\n",
    "# 訓練 Word2Vec 模型\n",
    "model = Word2Vec(sentences, min_count=1)\n",
    "\n",
    "# 建立相似度結果的 DataFrame\n",
    "similarity_matrix = []\n",
    "for i, word1 in enumerate(sentences):\n",
    "    row = []\n",
    "    for j, word2 in enumerate(sentences):\n",
    "        similarity = model.wv.similarity(word1[0], word2[0])\n",
    "        row.append(similarity)\n",
    "    similarity_matrix.append(row)\n",
    "df_similarity = pd.DataFrame(similarity_matrix,columns=['7up', 'Sprite','Pepsi','Coke','Cappuccino','Espresso','Latte'])\n",
    "df_similarity"
   ]
  },
  {
   "cell_type": "code",
   "execution_count": 666,
   "metadata": {
    "colab": {
     "base_uri": "https://localhost:8080/",
     "height": 730
    },
    "id": "ryShi1Ii6hEn",
    "outputId": "d42d7351-559c-453b-a481-8ae27a1b9719"
   },
   "outputs": [
    {
     "name": "stdout",
     "output_type": "stream",
     "text": [
      "[t-SNE] Computing 6 nearest neighbors...\n",
      "[t-SNE] Indexed 7 samples in 0.000s...\n",
      "[t-SNE] Computed neighbors for 7 samples in 0.001s...\n",
      "[t-SNE] Computed conditional probabilities for sample 7 / 7\n",
      "[t-SNE] Mean sigma: 9.465728\n",
      "[t-SNE] KL divergence after 250 iterations with early exaggeration: 40.471149\n",
      "[t-SNE] KL divergence after 251 iterations: 179769313486231570814527423731704356798070567525844996598917476803157260780028538760589558632766878171540458953514382464234321326889464182768467546703537516986049910576551282076245490090389328944075868508455133942304583236903222948165808559332123348274797826204144723168738177180919299881250404026184124858368.000000\n",
      "[[ -6.665762    5.7499523]\n",
      " [ 15.5835495  16.93924  ]\n",
      " [  5.4830513 -14.975431 ]\n",
      " [ -3.8911     15.3977375]\n",
      " [ 13.4549055  12.783546 ]\n",
      " [  6.812819   32.757675 ]\n",
      " [  2.6725426   9.396275 ]]\n"
     ]
    },
    {
     "data": {
      "image/png": "[encoded data removed]",
      "text/plain": [
       "<Figure size 640x480 with 1 Axes>"
      ]
     },
     "metadata": {},
     "output_type": "display_data"
    }
   ],
   "source": [
    "#t-SNE\n",
    "X_tsne2 = manifold.TSNE(n_components=2,perplexity=6.0, init='random', n_iter=250 ,random_state=1, verbose=1).fit_transform(df_similarity)\n",
    "print(X_tsne2)\n",
    "plt.scatter(X_tsne2[:,0],X_tsne2[:,1],c=range(len(X_tsne2)))\n",
    "plt.title(\"t-SNE\")\n",
    "plt.xlabel(\"X\")\n",
    "plt.ylabel(\"Y\")\n",
    "plt.show()"
   ]
  }
 ],
 "metadata": {
  "colab": {
   "provenance": []
  },
  "kernelspec": {
   "display_name": "Python 3 (ipykernel)",
   "language": "python",
   "name": "python3"
  },
  "language_info": {
   "codemirror_mode": {
    "name": "ipython",
    "version": 3
   },
   "file_extension": ".py",
   "mimetype": "text/x-python",
   "name": "python",
   "nbconvert_exporter": "python",
   "pygments_lexer": "ipython3",
   "version": "3.9.16"
  }
 },
 "nbformat": 4,
 "nbformat_minor": 1
}
